{
 "cells": [
  {
   "cell_type": "markdown",
   "id": "63c9857a",
   "metadata": {},
   "source": [
    "But exercice : Prédire qualité du vin à partir du dataset Kaggle\n",
    "On souhaite arriver à une précision de 0.61\n",
    "\n",
    "test_size = 0.33\n",
    "random_state = 42"
   ]
  },
  {
   "cell_type": "code",
   "execution_count": 13,
   "id": "e9f836cd",
   "metadata": {},
   "outputs": [],
   "source": [
    "import numpy as np\n",
    "import pandas as pd\n",
    "from sklearn.model_selection import train_test_split\n",
    "from sklearn.neighbors import KNeighborsClassifier"
   ]
  },
  {
   "cell_type": "code",
   "execution_count": 14,
   "id": "5180615a",
   "metadata": {
    "scrolled": true
   },
   "outputs": [],
   "source": [
    "#importer les données\n",
    "\n",
    "data = pd.read_csv('WineQT.csv')\n",
    "data.head()\n",
    "y = data['quality']\n",
    "X = data.drop(columns = [\"quality\"])"
   ]
  },
  {
   "cell_type": "code",
   "execution_count": 48,
   "id": "0bc0cc41",
   "metadata": {},
   "outputs": [
    {
     "name": "stdout",
     "output_type": "stream",
     "text": [
      "Pour  1  voisins, la précision est de  53.43915343915344 %\n",
      "Pour  2  voisins, la précision est de  53.43915343915344 %\n",
      "Pour  3  voisins, la précision est de  54.761904761904766 %\n",
      "Pour  4  voisins, la précision est de  56.613756613756614 %\n",
      "Pour  5  voisins, la précision est de  56.87830687830689 %\n",
      "Pour  6  voisins, la précision est de  57.67195767195767 %\n",
      "Pour  7  voisins, la précision est de  57.67195767195767 %\n",
      "Pour  8  voisins, la précision est de  56.34920634920635 %\n",
      "Pour  9  voisins, la précision est de  57.407407407407405 %\n",
      "Pour  10  voisins, la précision est de  57.14285714285714 %\n",
      "Pour  15  voisins, la précision est de  58.730158730158735 %\n",
      "Pour  17  voisins, la précision est de  58.201058201058196 %\n",
      "Pour  20  voisins, la précision est de  56.613756613756614 %\n",
      "Pour  25  voisins, la précision est de  57.14285714285714 %\n",
      "Pour  30  voisins, la précision est de  58.201058201058196 %\n",
      "Pour  200  voisins, la précision est de  60.05291005291006 %\n"
     ]
    }
   ],
   "source": [
    "#entraîner le modèle pour plusieurs K possibles\n",
    "\n",
    "neighbors = [1, 2, 3, 4, 5, 6, 7, 8, 9, 10, 15, 17, 20, 25, 30, 200]\n",
    "\n",
    "KNNs = []\n",
    "\n",
    "X_train, X_test, y_train, y_test = train_test_split(X, y, test_size=0.33, random_state=42)\n",
    "\n",
    "for i in range(len(neighbors)):\n",
    "    KNNs.append(KNeighborsClassifier(neighbors[i], weights = 'distance', p = 1))\n",
    "    KNNs[i].fit(X_train,y_train)\n",
    "    score = KNNs[i].score(X_test, y_test)\n",
    "    print(\"Pour \", neighbors[i], \" voisins, la précision est de \", score * 100, \"%\")\n",
    "\n"
   ]
  },
  {
   "cell_type": "code",
   "execution_count": null,
   "id": "608c7930",
   "metadata": {},
   "outputs": [],
   "source": []
  }
 ],
 "metadata": {
  "kernelspec": {
   "display_name": "Python 3 (ipykernel)",
   "language": "python",
   "name": "python3"
  },
  "language_info": {
   "codemirror_mode": {
    "name": "ipython",
    "version": 3
   },
   "file_extension": ".py",
   "mimetype": "text/x-python",
   "name": "python",
   "nbconvert_exporter": "python",
   "pygments_lexer": "ipython3",
   "version": "3.9.7"
  }
 },
 "nbformat": 4,
 "nbformat_minor": 5
}
